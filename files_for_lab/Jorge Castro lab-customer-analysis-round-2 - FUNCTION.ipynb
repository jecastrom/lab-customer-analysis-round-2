{
 "cells": [
  {
   "cell_type": "code",
   "execution_count": null,
   "id": "6c8fa85c",
   "metadata": {},
   "outputs": [],
   "source": [
    "def cleaning(file.csv):\n",
    "    import pandas as pd\n",
    "    \n",
    "    # Reading csv file\n",
    "    df = pd.read_csv('marketing_customer_analysis.csv')\n",
    "    \n",
    "    # Lower caseing headers\n",
    "    df.columns = df.columns.str.lower()\n",
    "    \n",
    "    # Replacing spaces by underscores\n",
    "    df.columns = df.columns.str.replace(' ', '_')\n",
    "    \n",
    "    # Dropping the column 'unnamed:_0' as it is a duplicate from the index\n",
    "    df = df.drop('unnamed:_0', 1)\n",
    "    \n",
    "    # Dealing with null values:\n",
    "    nulls_df = pd.DataFrame(round(df.isna().sum()/len(df)*100,2))\n",
    "    nulls_df = nulls_df.reset_index()\n",
    "    nulls_df.columns = ['header_name', '%_nulls']\n",
    "    columns_drop = nulls_df[nulls_df['%_nulls'] > 50 ]['header_name']\n",
    "    df1 = df.drop(columns_drop, axis = 1)\n",
    "    df1.reset_index()\n",
    "    df2 = df1.dropna(how='any')\n",
    "    df2['effective_to_date_2']=pd.to_datetime(df.effective_to_date)\n",
    "    df3 = df2.drop('effective_to_date', axis=1)\n",
    "    \n",
    "    # we extract the the month as another series:\n",
    "    df3['month'] = pd.DatetimeIndex(df3['effective_to_date_2']).month\n",
    "    \n",
    "    # converting cleaned DataFrame to csv\n",
    "    df3.to_csv(cleaned_file.csv)\n",
    "    return cleaned_file.csv\n",
    "\n",
    "    "
   ]
  }
 ],
 "metadata": {
  "kernelspec": {
   "display_name": "Python 3",
   "language": "python",
   "name": "python3"
  },
  "language_info": {
   "codemirror_mode": {
    "name": "ipython",
    "version": 3
   },
   "file_extension": ".py",
   "mimetype": "text/x-python",
   "name": "python",
   "nbconvert_exporter": "python",
   "pygments_lexer": "ipython3",
   "version": "3.8.8"
  }
 },
 "nbformat": 4,
 "nbformat_minor": 5
}
